{
 "cells": [
  {
   "cell_type": "code",
   "execution_count": null,
   "metadata": {},
   "outputs": [],
   "source": [
    "#Easy- 1\n",
    "\n",
    "def divFrac(hi,lo):\n",
    "    if lo == 0 or hi == 0:\n",
    "        return 0\n",
    "    else:\n",
    "        a = hi//lo\n",
    "        f = (hi/lo) - a\n",
    "        return f\n",
    "\n",
    "number1 = int(input())\n",
    "number2 = int(input())\n",
    "result = divFrac(number1,number2)\n",
    "print(round(result,1))"
   ]
  },
  {
   "cell_type": "code",
   "execution_count": null,
   "metadata": {},
   "outputs": [],
   "source": [
    "#Easy- 2\n",
    "\n",
    "def calculateBMI(weight2,height2):\n",
    "    totalHeight = height2 / 100\n",
    "    squareheight = totalHeight * totalHeight\n",
    "    bmi = weight2 / squareheight\n",
    "    return bmi\n",
    "\n",
    "height1 = int(input())\n",
    "weight1 = int(input())\n",
    "result = calculateBMI(weight1, height1)\n",
    "result=round(result,1)\n",
    "if result < 18.5:\n",
    "    print(f\"Score is {result}. You are Underweight\")\n",
    "elif result >= 18.5 and result <= 24.9:\n",
    "    print(f\"Score is {result}. You are Normal\")\n",
    "elif result >= 25 and result <= 30:\n",
    "    print(f\"Score is {result}. You are Overweight\")\n",
    "else:\n",
    "    print(f\"Score is {result}. You are Obese\")\n",
    "\n"
   ]
  },
  {
   "cell_type": "code",
   "execution_count": null,
   "metadata": {},
   "outputs": [],
   "source": [
    "#Easy- 3\n",
    "\n",
    "def divsum(minimum,maximum,div):\n",
    "    summ = 0\n",
    "    for i in range(minimum,maximum):\n",
    "        if(i%div == 0):\n",
    "            summ = summ + i\n",
    "    return summ\n",
    "\n",
    "minimum = int(input())\n",
    "maximum = int(input())\n",
    "divisor = int(input())\n",
    "result = divsum(minimum,maximum,divisor)\n",
    "print(result)"
   ]
  },
  {
   "cell_type": "code",
   "execution_count": 15,
   "metadata": {},
   "outputs": [
    {
     "name": "stdout",
     "output_type": "stream",
     "text": [
      "Beef Burger\n",
      "\n",
      "223.6\n"
     ]
    }
   ],
   "source": [
    "#Medium- 1\n",
    "\n",
    "def totalprice(burger,place=\"Mohakhali\"):\n",
    "    price = 0\n",
    "    if burger == \"BBQ Chicken Cheese Burger\":\n",
    "        price += 250\n",
    "    elif burger == \"Beef Burger\":\n",
    "        price += 170\n",
    "    else:\n",
    "        price += 200\n",
    "    price = price + (price * .08)\n",
    "    if place == \"Mohakhali\" or place == \"mohakhali\":\n",
    "        price += 40\n",
    "    else:\n",
    "        price +=60\n",
    "    return price\n",
    "\n",
    "food = input()\n",
    "loc = input()\n",
    "if loc == '':\n",
    "    final = totalprice(food)\n",
    "else:\n",
    "    final = totalprice(food,loc)\n",
    "print(final)"
   ]
  },
  {
   "cell_type": "code",
   "execution_count": 1,
   "metadata": {},
   "outputs": [
    {
     "name": "stdout",
     "output_type": "stream",
     "text": [
      "bob@sheba.xyz\n",
      "Unchanged : bob@sheba.xyz\n"
     ]
    }
   ],
   "source": [
    "#Medium- 2\n",
    "\n",
    "def replace_domain(email,new,old = \"kaaj.com\"):\n",
    "    firstname = ''\n",
    "    count = -1\n",
    "    domain_name = ''\n",
    "    final = ''\n",
    "    for i in email:\n",
    "        if i == '@':\n",
    "            firstname += i\n",
    "            count += 1\n",
    "            break\n",
    "        else:\n",
    "            firstname += i\n",
    "            count += 1\n",
    "    totLength = len(email)\n",
    "\n",
    "    start = count+1\n",
    "    for i in range(start,totLength):\n",
    "        domain_name += email[start]\n",
    "        start += 1\n",
    "\n",
    "    if domain_name == new :\n",
    "        return f'Unchanged : {firstname}{domain_name}'\n",
    "\n",
    "    else:\n",
    "        return f'Changed : {firstname}{new}'\n",
    "\n",
    "\n",
    "address = input()\n",
    "domain = 'sheba.xyz'\n",
    "result = replace_domain(address,domain)\n",
    "print(result)\n",
    "    "
   ]
  },
  {
   "cell_type": "code",
   "execution_count": null,
   "metadata": {},
   "outputs": [],
   "source": [
    "#Medium- 3\n",
    "\n",
    "def vowel(name):\n",
    "    count = 0\n",
    "    word = \"Vowels: \"\n",
    "    for i in name:\n",
    "        if i == 'a' or i == 'e' or i == 'i' or i == 'o' or i == 'u'  or i == 'A' or i == 'E' or i == 'I' or i == 'O' or i == 'U':\n",
    "            word += i\n",
    "            word += ','\n",
    "            count += 1\n",
    "    word2 = ''\n",
    "    start=0\n",
    "    end = len(word) -2\n",
    "    for i in range(start,end+1):\n",
    "        word2 += word[start]\n",
    "        start += 1\n",
    "\n",
    "    if count == 0:\n",
    "        return \"No vowels in the name\"\n",
    "    else:\n",
    "        word2 += f\". Total number of vowels: {count}\"\n",
    "        return word2\n",
    "\n",
    "Name = input()\n",
    "result = vowel(Name)\n",
    "print(result)"
   ]
  },
  {
   "cell_type": "code",
   "execution_count": null,
   "metadata": {},
   "outputs": [],
   "source": [
    "#Medium- 4\n",
    "\n",
    "temp = []\n",
    "word1 = input()\n",
    "word2 = ''\n",
    "word3 = ''\n",
    "\n",
    "for i in word1:\n",
    "    if i == ' ':\n",
    "        pass\n",
    "    else:\n",
    "        temp.append(i)\n",
    "        word2 += i\n",
    "\n",
    "while len(temp) != 0:\n",
    "    word3 += temp.pop()\n",
    "\n",
    "if word2 == word3:\n",
    "    print('Palindrome')\n",
    "\n",
    "else:\n",
    "    print('Not a palindrome')"
   ]
  },
  {
   "cell_type": "code",
   "execution_count": null,
   "metadata": {},
   "outputs": [],
   "source": [
    "#Hard- 1\n",
    "\n",
    "# def bonusSalary(name,salary,dateofjoin):\n",
    "#     x = dateJoined.split(\"-\")\n",
    "#     y = 2020-int(x[0])\n",
    "#     if y<5:\n",
    "#         bonus = int(int(salary)(10/100))\n",
    "#         return name+\": \"+str(bonus)\n",
    "#     elif y>=5 and y<=10:\n",
    "#         bonus = int(int(salary(10/100))+5000)\n",
    "#         return name+\": \"+str(bonus)\n",
    "#     elif(y>10):\n",
    "#         bonus = int(int(salary*(15/100))+15000)\n",
    "#         return name+\": \"+str(bonus)"
   ]
  },
  {
   "cell_type": "code",
   "execution_count": 1,
   "metadata": {},
   "outputs": [
    {
     "name": "stdout",
     "output_type": "stream",
     "text": [
      "4320\n",
      "11 years, 10 months and 5 days\n"
     ]
    }
   ],
   "source": [
    "#Hard- 2\n",
    "\n",
    "def convertCalendar(days):\n",
    "     year = int(days / 365)             \n",
    "     month = int((days % 365) / 30)     \n",
    "     day = int((days % 365) % 30)\n",
    "     return f\"{year} years, {month} months and {day} days\"\n",
    "\n",
    "totaldays = int(input())\n",
    "result = convertCalendar(totaldays)\n",
    "print(result)"
   ]
  },
  {
   "cell_type": "code",
   "execution_count": 9,
   "metadata": {},
   "outputs": [
    {
     "name": "stdout",
     "output_type": "stream",
     "text": [
      "aba. a. i. hgg? a\n",
      "Aba. A. I. Hgg? A\n"
     ]
    }
   ],
   "source": [
    "#Hard- 3\n",
    "\n",
    "def capitalize(paragraph):\n",
    "     word = []\n",
    "     word1 = ''\n",
    "     count = 0\n",
    "     for i in paragraph:\n",
    "            if count == 0:\n",
    "               word1 = i.upper()\n",
    "               word += word1\n",
    "               count += 1\n",
    "            #Space for Only i not in a word\n",
    "            elif i == 'i' and paragraph[count+1] == ' ':\n",
    "               word1 = i.upper()\n",
    "               word += word1\n",
    "               count += 1\n",
    "            elif paragraph[count - 2] == '!' or paragraph[count-2] == '.' or paragraph[count-2] == '?':\n",
    "                word1 = i.upper()\n",
    "                word += word1\n",
    "                count += 1\n",
    "            else:\n",
    "               word += i\n",
    "               count += 1\n",
    "            word1 = ''\n",
    "     word[1] = word[1].lower()\n",
    "     return ''.join(word)\n",
    "string = input()\n",
    "print(capitalize(string))"
   ]
  },
  {
   "cell_type": "code",
   "execution_count": null,
   "metadata": {},
   "outputs": [],
   "source": []
  }
 ],
 "metadata": {
  "kernelspec": {
   "display_name": "Python 3",
   "language": "python",
   "name": "python3"
  },
  "language_info": {
   "codemirror_mode": {
    "name": "ipython",
    "version": 3
   },
   "file_extension": ".py",
   "mimetype": "text/x-python",
   "name": "python",
   "nbconvert_exporter": "python",
   "pygments_lexer": "ipython3",
   "version": "3.7.6"
  }
 },
 "nbformat": 4,
 "nbformat_minor": 4
}
