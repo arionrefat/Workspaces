{
 "cells": [
  {
   "cell_type": "code",
   "execution_count": null,
   "metadata": {},
   "outputs": [],
   "source": [
    "#Easy- 1\n",
    "\n",
    "lst = []\n",
    "for i in range(10):\n",
    "    lst.append(input())\n",
    "lst = lst[::-1]\n",
    "print(lst)"
   ]
  },
  {
   "cell_type": "code",
   "execution_count": null,
   "metadata": {},
   "outputs": [],
   "source": [
    "#Easy- 2\n",
    "\n",
    "a = input()\n",
    "lst1 = a.split(',')\n",
    "b = input()\n",
    "lst2 = b.split(',')\n",
    "lst1 = lst1[:-1]\n",
    "lst1 = lst1 + lst2\n",
    "listo = []\n",
    "\n",
    "for i in lst1:\n",
    "    listo.append(int(i))\n",
    "    \n",
    "print(listo)"
   ]
  },
  {
   "cell_type": "code",
   "execution_count": null,
   "metadata": {},
   "outputs": [],
   "source": [
    "#Easy- 3 \n",
    "\n",
    "numbers = []\n",
    "count = 0\n",
    "\n",
    "while(count < 11):\n",
    "    num = int(input())\n",
    "    if num in numbers:\n",
    "        print('Enter again!')\n",
    "        count -= 1\n",
    "    else:\n",
    "        numbers.append(num)\n",
    "    count += 1\n",
    "\n",
    "print(numbers)"
   ]
  },
  {
   "cell_type": "code",
   "execution_count": null,
   "metadata": {},
   "outputs": [],
   "source": [
    "#Medium- 1\n",
    "\n",
    "nums = []\n",
    "uniqueNums=[]\n",
    "value = ''\n",
    "\n",
    "while(value != 'STOP'):\n",
    "    value = input()\n",
    "    nums.append(value)\n",
    "    if value in uniqueNums:\n",
    "        pass\n",
    "    else:\n",
    "        uniqueNums.append(value)\n",
    "nums.remove('STOP')\n",
    "uniqueNums.remove('STOP')\n",
    "nums.sort()\n",
    "uniqueNums.sort()\n",
    "print(nums)\n",
    "for i in range(len(uniqueNums)):\n",
    "    count=nums.count(uniqueNums[i])\n",
    "    print(str(uniqueNums[i])+' - '+str(count)+' times')\n"
   ]
  },
  {
   "cell_type": "code",
   "execution_count": null,
   "metadata": {},
   "outputs": [],
   "source": [
    "#Medium- 2\n",
    "\n",
    "n = int(input())\n",
    "numbers= []\n",
    "\n",
    "for i in range(n):\n",
    "    numbers = list(map(int, input().split()))\n",
    "    for i in range(len(numbers)):\n",
    "        sum += i\n",
    "        \n",
    "print(numbers)"
   ]
  },
  {
   "cell_type": "code",
   "execution_count": null,
   "metadata": {},
   "outputs": [],
   "source": [
    "#Medium- 3\n",
    "\n",
    "result=[]\n",
    "def crossMultiplication(x,y):\n",
    "    for a in x:\n",
    "        for b in y:\n",
    "            result.append(a*b)\n",
    "    return result\n",
    "list1=list(map(int, input().split()))\n",
    "list2=list(map(int, input().split()))\n",
    "crossMultiplication(list1,list2)"
   ]
  },
  {
   "cell_type": "code",
   "execution_count": null,
   "metadata": {},
   "outputs": [],
   "source": [
    "#Medium- 4\n",
    "\n",
    "n = int(input())\n",
    "list1=list(input().split(','))\n",
    "list=[]\n",
    "\n",
    "for i in range(n):\n",
    "    list.append(list1[i::3])\n",
    "    \n",
    "print(list)"
   ]
  },
  {
   "cell_type": "code",
   "execution_count": null,
   "metadata": {},
   "outputs": [],
   "source": [
    "#Hard 1\n",
    "while True:\n",
    "    nums=input()\n",
    "    if nums=='STOP':\n",
    "        break\n",
    "    else:\n",
    "        nums=nums.split(' ')\n",
    "        n=len(nums)\n",
    "        cut=[]\n",
    "        count=0\n",
    "        while count<(n-1):\n",
    "            diff=abs(int(nums[count])-int(nums[count+1]))\n",
    "            cut.append(diff)\n",
    "            count+=1\n",
    "        cut.sort()\n",
    "        \n",
    "        count1=0\n",
    "        while count1<n:\n",
    "            if count1 in cut:\n",
    "                sent='UB Jumper'\n",
    "            else:\n",
    "                sent='Not UB Jumper'\n",
    "            count1+=1\n",
    "        print(sent)"
   ]
  },
  {
   "cell_type": "code",
   "execution_count": null,
   "metadata": {},
   "outputs": [],
   "source": [
    "#Hard- 2\n",
    "\n",
    "string=input()\n",
    "string=''.join(sorted(string))\n",
    "loweralpha=\"\"\n",
    "upperalpha=\"\"\n",
    "digits=\"\"\n",
    "\n",
    "for i in string:\n",
    "    if i.isupper():\n",
    "        upperalpha=upperalpha+i\n",
    "    elif i.islower():\n",
    "        loweralpha=loweralpha+i\n",
    "    else:\n",
    "        digits=digits+i\n",
    "\n",
    "odd=\"\"\n",
    "even=\"\"\n",
    "for i in digits:\n",
    "    if int(i)%2==0:\n",
    "        even=even+i\n",
    "    else:\n",
    "        odd=odd+i\n",
    "print(loweralpha+upperalpha+odd+even)"
   ]
  },
  {
   "cell_type": "code",
   "execution_count": null,
   "metadata": {},
   "outputs": [],
   "source": [
    "#Hard 3\n",
    "details = input()\n",
    "members = input()\n",
    "    \n",
    "tot=int(details[0])\n",
    "times=int(details[-1])\n",
    "temp=members.split(' ')\n",
    "list=[]\n",
    "for i in temp:\n",
    "    if int(i)<=5-times:\n",
    "        list.append(int(i))\n",
    "teams=len(list)//3\n",
    "print(teams)"
   ]
  }
 ],
 "metadata": {
  "kernelspec": {
   "display_name": "Python 3",
   "language": "python",
   "name": "python3"
  },
  "language_info": {
   "codemirror_mode": {
    "name": "ipython",
    "version": 3
   },
   "file_extension": ".py",
   "mimetype": "text/x-python",
   "name": "python",
   "nbconvert_exporter": "python",
   "pygments_lexer": "ipython3",
   "version": "3.7.6"
  }
 },
 "nbformat": 4,
 "nbformat_minor": 4
}
