{
  "nbformat": 4,
  "nbformat_minor": 0,
  "metadata": {
    "colab": {
      "name": "20101482_G. M. Refatul Islam_Lab01",
      "provenance": [],
      "collapsed_sections": []
    },
    "kernelspec": {
      "name": "python3",
      "display_name": "Python 3"
    },
    "language_info": {
      "name": "python"
    },
    "accelerator": "GPU"
  },
  "cells": [
    {
      "cell_type": "code",
      "source": [
        "!pip install tensorflow==1.15.0"
      ],
      "metadata": {
        "colab": {
          "base_uri": "https://localhost:8080/"
        },
        "id": "L3y0yGFYiWRI",
        "outputId": "119e63f8-617e-4117-9430-da43115abddb"
      },
      "execution_count": null,
      "outputs": [
        {
          "output_type": "stream",
          "name": "stdout",
          "text": [
            "Looking in indexes: https://pypi.org/simple, https://us-python.pkg.dev/colab-wheels/public/simple/\n",
            "Requirement already satisfied: tensorflow==1.15.0 in /usr/local/lib/python3.7/dist-packages (1.15.0)\n",
            "Requirement already satisfied: protobuf>=3.6.1 in /usr/local/lib/python3.7/dist-packages (from tensorflow==1.15.0) (3.17.3)\n",
            "Requirement already satisfied: tensorboard<1.16.0,>=1.15.0 in /usr/local/lib/python3.7/dist-packages (from tensorflow==1.15.0) (1.15.0)\n",
            "Requirement already satisfied: termcolor>=1.1.0 in /usr/local/lib/python3.7/dist-packages (from tensorflow==1.15.0) (1.1.0)\n",
            "Requirement already satisfied: wheel>=0.26 in /usr/local/lib/python3.7/dist-packages (from tensorflow==1.15.0) (0.37.1)\n",
            "Requirement already satisfied: opt-einsum>=2.3.2 in /usr/local/lib/python3.7/dist-packages (from tensorflow==1.15.0) (3.3.0)\n",
            "Requirement already satisfied: gast==0.2.2 in /usr/local/lib/python3.7/dist-packages (from tensorflow==1.15.0) (0.2.2)\n",
            "Requirement already satisfied: keras-preprocessing>=1.0.5 in /usr/local/lib/python3.7/dist-packages (from tensorflow==1.15.0) (1.1.2)\n",
            "Requirement already satisfied: grpcio>=1.8.6 in /usr/local/lib/python3.7/dist-packages (from tensorflow==1.15.0) (1.46.3)\n",
            "Requirement already satisfied: wrapt>=1.11.1 in /usr/local/lib/python3.7/dist-packages (from tensorflow==1.15.0) (1.14.1)\n",
            "Requirement already satisfied: absl-py>=0.7.0 in /usr/local/lib/python3.7/dist-packages (from tensorflow==1.15.0) (1.1.0)\n",
            "Requirement already satisfied: six>=1.10.0 in /usr/local/lib/python3.7/dist-packages (from tensorflow==1.15.0) (1.15.0)\n",
            "Requirement already satisfied: astor>=0.6.0 in /usr/local/lib/python3.7/dist-packages (from tensorflow==1.15.0) (0.8.1)\n",
            "Requirement already satisfied: tensorflow-estimator==1.15.1 in /usr/local/lib/python3.7/dist-packages (from tensorflow==1.15.0) (1.15.1)\n",
            "Requirement already satisfied: numpy<2.0,>=1.16.0 in /usr/local/lib/python3.7/dist-packages (from tensorflow==1.15.0) (1.21.6)\n",
            "Requirement already satisfied: keras-applications>=1.0.8 in /usr/local/lib/python3.7/dist-packages (from tensorflow==1.15.0) (1.0.8)\n",
            "Requirement already satisfied: google-pasta>=0.1.6 in /usr/local/lib/python3.7/dist-packages (from tensorflow==1.15.0) (0.2.0)\n",
            "Requirement already satisfied: h5py in /usr/local/lib/python3.7/dist-packages (from keras-applications>=1.0.8->tensorflow==1.15.0) (3.1.0)\n",
            "Requirement already satisfied: werkzeug>=0.11.15 in /usr/local/lib/python3.7/dist-packages (from tensorboard<1.16.0,>=1.15.0->tensorflow==1.15.0) (1.0.1)\n",
            "Requirement already satisfied: markdown>=2.6.8 in /usr/local/lib/python3.7/dist-packages (from tensorboard<1.16.0,>=1.15.0->tensorflow==1.15.0) (3.3.7)\n",
            "Requirement already satisfied: setuptools>=41.0.0 in /usr/local/lib/python3.7/dist-packages (from tensorboard<1.16.0,>=1.15.0->tensorflow==1.15.0) (57.4.0)\n",
            "Requirement already satisfied: importlib-metadata>=4.4 in /usr/local/lib/python3.7/dist-packages (from markdown>=2.6.8->tensorboard<1.16.0,>=1.15.0->tensorflow==1.15.0) (4.11.4)\n",
            "Requirement already satisfied: typing-extensions>=3.6.4 in /usr/local/lib/python3.7/dist-packages (from importlib-metadata>=4.4->markdown>=2.6.8->tensorboard<1.16.0,>=1.15.0->tensorflow==1.15.0) (4.2.0)\n",
            "Requirement already satisfied: zipp>=0.5 in /usr/local/lib/python3.7/dist-packages (from importlib-metadata>=4.4->markdown>=2.6.8->tensorboard<1.16.0,>=1.15.0->tensorflow==1.15.0) (3.8.0)\n",
            "Requirement already satisfied: cached-property in /usr/local/lib/python3.7/dist-packages (from h5py->keras-applications>=1.0.8->tensorflow==1.15.0) (1.5.2)\n"
          ]
        }
      ]
    },
    {
      "cell_type": "code",
      "source": [
        "!pip install -q lucid>=0.2.3\n",
        "!pip install -q moviepy"
      ],
      "metadata": {
        "id": "YXv13t34XX7o"
      },
      "execution_count": null,
      "outputs": []
    },
    {
      "cell_type": "code",
      "source": [
        "import numpy as np\n",
        "import json\n",
        "import moviepy.editor as mvp\n",
        "from google.colab import files\n",
        "import tensorflow.compat.v1.gfile as gfile\n",
        "import lucid.misc.io.showing as show"
      ],
      "metadata": {
        "id": "MuQfUYd6XYDH"
      },
      "execution_count": null,
      "outputs": []
    },
    {
      "cell_type": "code",
      "source": [
        "from lucid.misc.gl.glcontext import create_opengl_context\n",
        "\n",
        "# Now it's safe to import OpenGL and EGL functions\n",
        "import OpenGL.GL as gl\n",
        "from OpenGL.GLU import *\n",
        "\n",
        "# create_opengl_context() creates GL context that is attached to an\n",
        "# offscreen surface of specified size. Note that rendering to buffers\n",
        "# of different size and format is still possible with OpenGL Framebuffers.\n",
        "#\n",
        "# Users are expected to directly use EGL calls in case more advanced\n",
        "# context management is required.\n",
        "WIDTH, HEIGHT = 400,400\n",
        "create_opengl_context((WIDTH, HEIGHT))\n",
        "    \n",
        "# OpenGL context is available here.\n",
        "\n",
        "print(gl.glGetString(gl.GL_VERSION))\n",
        "print(gl.glGetString(gl.GL_VENDOR)) \n",
        "#print(gl.glGetString(gl.GL_EXTENSIONS))"
      ],
      "metadata": {
        "id": "-dC6f5NBXcNu",
        "colab": {
          "base_uri": "https://localhost:8080/"
        },
        "outputId": "2dc6931e-3f8d-46d5-ccd3-75e99a788bcb"
      },
      "execution_count": null,
      "outputs": [
        {
          "output_type": "stream",
          "name": "stdout",
          "text": [
            "b'4.6.0 NVIDIA 460.32.03'\n",
            "b'NVIDIA Corporation'\n"
          ]
        }
      ]
    },
    {
      "cell_type": "code",
      "source": [
        "# Let's render something!\n",
        "gl.glClear(gl.GL_COLOR_BUFFER_BIT)\n",
        "gl.glPointSize(10)\n",
        "gl.glBegin(gl.GL_POINTS)\n",
        "gl.glVertex2f(.75,.90 )\n",
        "gl.glVertex2f(.1, 0)\n",
        "gl.glEnd()\n"
      ],
      "metadata": {
        "id": "rBuf1GH0Xbp4"
      },
      "execution_count": null,
      "outputs": []
    },
    {
      "cell_type": "code",
      "source": [
        "import random\n",
        "\n",
        "# Let's render something!\n",
        "gl.glClear(gl.GL_COLOR_BUFFER_BIT)\n",
        "gl.glPointSize(5)\n",
        "gl.glBegin(gl.GL_POINTS)\n",
        "\n",
        "for i in range(25):\n",
        "  value1 = random.random()\n",
        "  value2 = random.random()\n",
        "  gl.glVertex2f(value1,value2 )\n",
        "\n",
        "for i in range(25):\n",
        "  value1 = random.random()\n",
        "  value2 = random.random()\n",
        "  gl.glVertex2f(-value1,value2 )\n",
        "\n",
        "gl.glEnd()\n"
      ],
      "metadata": {
        "id": "EsHpFus7Yhei"
      },
      "execution_count": null,
      "outputs": []
    },
    {
      "cell_type": "code",
      "source": [
        "gl.glClear(gl.GL_COLOR_BUFFER_BIT)\n",
        "gl.glBegin(gl.GL_LINES)\n",
        "gl.glVertex2f(0.75,.80)\n",
        "gl.glVertex2f(0.1,.8)\n",
        "gl.glEnd()"
      ],
      "metadata": {
        "id": "Ud_FHk8Jb6Kn"
      },
      "execution_count": null,
      "outputs": []
    },
    {
      "cell_type": "code",
      "source": [
        "gl.glClear(gl.GL_COLOR_BUFFER_BIT)\n",
        "gl.glBegin(gl.GL_TRIANGLES)\n",
        "gl.glVertex2f(0.2,0.2)\n",
        "gl.glVertex2f(0.4,0.4)\n",
        "gl.glVertex2f(0.6,0.2)\n",
        "gl.glEnd()\n",
        "gl.glBegin(gl.GL_LINES)\n",
        "gl.glVertex2f(0.2,0.2)\n",
        "gl.glVertex2f(0.2,-0.2)\n",
        "gl.glVertex2f(0.6,0.2)\n",
        "gl.glVertex2f(0.6,-0.2)\n",
        "gl.glVertex2f(0.2,-0.2)\n",
        "gl.glVertex2f(0.6,-0.2)\n",
        "gl.glEnd()\n",
        "gl.glBegin(gl.GL_LINES)\n",
        "#G - J\n",
        "gl.glVertex2f(0.25,0.15)\n",
        "gl.glVertex2f(0.25,0.1)\n",
        "#G - E\n",
        "gl.glVertex2f(0.25,0.15)\n",
        "gl.glVertex2f(0.35,0.15)\n",
        "#J - K\n",
        "gl.glVertex2f(0.25,0.1)\n",
        "gl.glVertex2f(0.35,0.1)\n",
        "#K - E\n",
        "gl.glVertex2f(0.35,0.1)\n",
        "gl.glVertex2f(0.35,0.15)\n",
        "\n",
        "#H - I\n",
        "gl.glVertex2f(0.45,0.15)\n",
        "gl.glVertex2f(0.55,0.15)\n",
        "#H - L\n",
        "gl.glVertex2f(0.45,0.15)\n",
        "gl.glVertex2f(0.45,0.1)\n",
        "#L - M\n",
        "gl.glVertex2f(0.45,0.1)\n",
        "gl.glVertex2f(0.55,0.1)\n",
        "#I - M\n",
        "gl.glVertex2f(0.55,0.15)\n",
        "gl.glVertex2f(0.55,0.1)\n",
        "gl.glEnd()\n",
        "\n",
        "gl.glBegin(gl.GL_LINES)\n",
        "# N - Q\n",
        "gl.glVertex2f(0.35, -0.05)\n",
        "gl.glVertex2f(0.45,-0.05)\n",
        "# 0 - P\n",
        "gl.glVertex2f(0.35,-0.2)\n",
        "gl.glVertex2f(0.45,-0.2)\n",
        "#N - O\n",
        "gl.glVertex2f(0.35,-0.05)\n",
        "gl.glVertex2f(0.35,-0.2)\n",
        "#Q - P\n",
        "gl.glVertex2f(0.45,-0.05)\n",
        "gl.glVertex2f(0.45,-0.2)\n",
        "gl.glEnd()\n",
        "\n",
        "gl.glPointSize(5)\n",
        "gl.glBegin(gl.GL_POINTS)\n",
        "gl.glVertex2f(0.378,-0.1299)\n",
        "gl.glEnd()"
      ],
      "metadata": {
        "id": "DUOp1WfrdhAi"
      },
      "execution_count": null,
      "outputs": []
    },
    {
      "cell_type": "code",
      "source": [
        "img_buf = gl.glReadPixelsub(0, 0, WIDTH, HEIGHT, gl.GL_RGB, gl.GL_UNSIGNED_BYTE)\n",
        "img = np.frombuffer(img_buf, np.uint8).reshape(HEIGHT, WIDTH, 3)[::-1]\n",
        "show.image(img/255.0)"
      ],
      "metadata": {
        "colab": {
          "base_uri": "https://localhost:8080/",
          "height": 421
        },
        "id": "e6JCjyDMyE75",
        "outputId": "56dfa51e-80b5-49ae-df49-9ac6bc03c426"
      },
      "execution_count": null,
      "outputs": [
        {
          "output_type": "display_data",
          "data": {
            "text/plain": [
              "<IPython.core.display.HTML object>"
            ],
            "text/html": [
              "<img src=\"data:image/PNG;base64,iVBORw0KGgoAAAANSUhEUgAAAZAAAAGQCAIAAAAP3aGbAAAEhUlEQVR4nO3dUVIqMRCGUbzl/rfMfRgflEJkmDDpv3POApRC+OhkMni5AIT4GP4Tr9frj1/wMf5XAGv6N/sBADxLsIAYggXEECwAgNFcwoOKXG2/y5IQiCFYQAzBAmJ8zn4AvJ3dENoQLKjI58pdggW87uT53R4WEMOEBXPYW3yBYPXnnUAbloRAjNITlpkZijv5XWnCAmKUnrCgMSuGF5iwgBiCBQAAAEB1rlNAc53OM9p0B2IIFhBDsIAYggUAALCs4Auc8JtOF/L5zh4WEMPXy3wZ9Znssx3ex4QFxBAsIIYlIQ1ZiXdlwgIAAAAAgEFcTNnN0VCYxVVCIIZgATEEC4ghWAAAAMtySR56ann+xh4WEEOwgBiCBcTwBX4wWcvNpjcRLOipZfgE6w8+/aAOe1hADMECYlgSwmT2GZ4nWMA0e/eIBesPPv2gDntYQAzBAmIIFgAAAAAAAABQlGPcO/iqGZjLOSwghmABMdz8fIhFIpzJhAXEMGHtYICCuUxYQAzBAgAAAAAAAACKchKSJbiJqofmJ929TKGT84KlHcBBTroDMQQLiNF8Dws2tiAeCNquaR6syk89EwW9RfnuvGB5TQAHNZ+wgIJennAFi2wWd0sRLFhdUOUFixUFvUWP6Dd+OocFxDBhAWd7edYTLLI1WObwPEtCAAAAAAAAAKAoZ1gI1u/WEx5zDguIIVhADMECYggWAAAAAAAAAFCUWxngELcHDfHk0+gcFhBDsIAYggXEECwAAAAAAAAAoCi3EfAs96AwnXNYQAzBAmIIFhBDsIAY9k2BO2peYzFhATEEC4jxOfsBLK3m1A1lmbCAGCYs4I6a874JC4ix1oRlzwiirRWsahQTdhGs+cx9ZfnTVCNYwBmG1F+wuM9wQUFrBcu7biNGhHKsAYix1oRVkwGnLH+aapYOlpXREZ49dhnyClk6WDzQMkAimy4jWF5nY3kCCWXTHYghWECMjCXhWBaYQ3jeON+KwWJZIpsuYEloIAI2AcEC2AgWEGPFPSyLSghVMVg3m1YAm4rBumEgAjb2sIAYggXEECwghu0hLhencwlhwgJiCBYQQ7CAGIIFAAAAAAAAAAAAAEAtbsoHBjjnCz/cmgPEECwghmABMQQLAAAAgOqcw4rhH9tAwL+qhxvavSxXCYEYggXEsCSEPtovlgUrRr8XH+wlWOTR7mUJFlDLg4WtTXcghgkL+mi/WDZhATEECwAAAAAAAAAAAAAAAAAAAAAAAAAAAAAAAAAAAAAAAAAAAAAAAAAAAAAAAAAAAAAAAAAAAAAAAAAAAAAAAAAAAAAAAAAAAAAAAAAAAAAAAAAAAAAAAAAAAAAAAAAAAAAAAAAAAAAAAAAAAAAAAAAAAAAAAAAAAAAAAAAAAAAAAAAAAAAAAAAAAAAAAAAAAAAAAAAAAAAAAAAAAAAAAAAAAAAAAAAAAAAAAAAAAAAAAAAAAAAAAAAAAAAAAAAAAAAAAAAAAAAAAAAAAAAAAAAAAAAAAAAAAAAAAAAAAAAAAAAAAAAAAAAAAAAAgvwHOa+X1Ln7glgAAAAASUVORK5CYII=\" style=\"image-rendering: pixelated; image-rendering: crisp-edges;\">"
            ]
          },
          "metadata": {}
        }
      ]
    }
  ]
}