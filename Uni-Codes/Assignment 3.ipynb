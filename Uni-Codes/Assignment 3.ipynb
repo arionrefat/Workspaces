{
 "cells": [
  {
   "cell_type": "code",
   "execution_count": 37,
   "metadata": {
    "tags": []
   },
   "outputs": [
    {
     "name": "stdout",
     "output_type": "stream",
     "text": [
      "ppl2\n"
     ]
    }
   ],
   "source": [
    "#Easy- 1\n",
    "\n",
    "string = input(\"Enter a String: \")\n",
    "vowelList = \"AEIOUaeiou\"\n",
    "count = 0\n",
    "vowel_length = len(vowelList)\n",
    "for i in string:\n",
    "    for j in range(0, vowel_length):\n",
    "        if i == vowel[j]:\n",
    "            string = string.replace(vowelList[j],\"\")\n",
    "            count+=1\n",
    "\n",
    "print(string+str(count))"
   ]
  },
  {
   "cell_type": "code",
   "execution_count": 29,
   "metadata": {
    "tags": []
   },
   "outputs": [
    {
     "name": "stdout",
     "output_type": "stream",
     "text": [
      "False\n"
     ]
    }
   ],
   "source": [
    "#Easy- 2\n",
    "\n",
    "def palindrome(string):\n",
    "    rev = string[::-1]\n",
    "    if string == rev:\n",
    "        return True\n",
    "    else:\n",
    "        return False\n",
    "print(palindrome('Abcba'))\n"
   ]
  },
  {
   "cell_type": "code",
   "execution_count": 35,
   "metadata": {
    "tags": []
   },
   "outputs": [
    {
     "name": "stdout",
     "output_type": "stream",
     "text": [
      "tactfully\n"
     ]
    }
   ],
   "source": [
    "#Easy- 3\n",
    "\n",
    "def addful(string):\n",
    "    if('ful' in string and len(string) >= 4):\n",
    "        string = string + 'ly'\n",
    "        return string\n",
    "    elif(len(string) >= 4):\n",
    "        string = string + 'ful'\n",
    "        return string\n",
    "    else:\n",
    "        return string\n",
    "print(addful('tactful'))"
   ]
  },
  {
   "cell_type": "code",
   "execution_count": 48,
   "metadata": {
    "tags": []
   },
   "outputs": [
    {
     "name": "stdout",
     "output_type": "stream",
     "text": [
      "banana\n"
     ]
    }
   ],
   "source": [
    "#Medium- 1\n",
    "\n",
    "def upplowCase(string):\n",
    "    string = string.strip()\n",
    "    uppercount = 0\n",
    "    lowercount = 0\n",
    "    \n",
    "    for i in string:\n",
    "        if i.isupper():\n",
    "            uppercount += 1\n",
    "        else:\n",
    "            lowercount += 1\n",
    "            \n",
    "    if lowercount >= uppercount:\n",
    "        string = string.lower()\n",
    "        return string\n",
    "    else:\n",
    "        string = string.upper()\n",
    "        return string\n",
    "print(upplowCase(\"BaNaNa\"))\n",
    "\n",
    "    "
   ]
  },
  {
   "cell_type": "code",
   "execution_count": 54,
   "metadata": {},
   "outputs": [
    {
     "data": {
      "text/plain": [
       "'MIXED'"
      ]
     },
     "execution_count": 54,
     "metadata": {},
     "output_type": "execute_result"
    }
   ],
   "source": [
    "#Medium- 2\n",
    "\n",
    "def isnumoraplha(string):\n",
    "    if (string.isnumeric()):\n",
    "        return 'NUMBER'\n",
    "    elif (string.isalpha()):\n",
    "        return 'WORD'\n",
    "    else:\n",
    "        return 'MIXED'\n",
    "isnumoraplha('asdasd66')"
   ]
  },
  {
   "cell_type": "code",
   "execution_count": 60,
   "metadata": {},
   "outputs": [
    {
     "data": {
      "text/plain": [
       "'glad'"
      ]
     },
     "execution_count": 60,
     "metadata": {},
     "output_type": "execute_result"
    }
   ],
   "source": [
    "#Medium- 3\n",
    "\n",
    "def upperlowcase(string):\n",
    "    alphas = \"ABCDEFGHIJKLMNOPQRSTUVWXYZ\"\n",
    "    flag = True\n",
    "    \n",
    "    for i in string:\n",
    "        if i in alphas and flag == True:\n",
    "            lower_bound = string.index(i)\n",
    "            flag = False\n",
    "        elif i in alphas:\n",
    "            upper_bound = string.index(i)\n",
    "    res = \"\"\n",
    "\n",
    "    for j in range(lower_bound+1, upper_bound):\n",
    "        res = res + string[j]\n",
    "\n",
    "    if len(res)==0:\n",
    "        return 'BLANK'\n",
    "    else:\n",
    "        return res\n",
    "upperlowcase('baNgladEsh')"
   ]
  },
  {
   "cell_type": "code",
   "execution_count": 57,
   "metadata": {
    "tags": []
   },
   "outputs": [
    {
     "name": "stdout",
     "output_type": "stream",
     "text": [
      "The book is good too\n"
     ]
    }
   ],
   "source": [
    "#Medium- 4\n",
    "\n",
    "def toogood(string):\n",
    "    if 'too good' in string:\n",
    "        string = string.replace('too good', 'excellent')\n",
    "        return string\n",
    "    else:\n",
    "        return string\n",
    "\n",
    "print(toogood('The book is good too'))"
   ]
  },
  {
   "cell_type": "code",
   "execution_count": 5,
   "metadata": {
    "tags": []
   },
   "outputs": [
    {
     "name": "stdout",
     "output_type": "stream",
     "text": [
      "hrraahra\n",
      "None\n"
     ]
    }
   ],
   "source": [
    "#Hard- 1\n",
    "\n",
    "def repititive(string1,string2):\n",
    "    res_1=\"\"\n",
    "    res_2=\"\"\n",
    "    for i in string1:\n",
    "        if i in string2:\n",
    "            res_1+=i\n",
    "\n",
    "    for i in string2:\n",
    "        if i in string1:\n",
    "            res_2+=i\n",
    "        \n",
    "    if len(res_1) == 0 and len(res_2) == 0:\n",
    "        print(\"Nothing in common\")\n",
    "    else:\n",
    "        print(res_1+res_2)\n",
    "print(repititive('hrraa', 'hrsda'))"
   ]
  },
  {
   "cell_type": "code",
   "execution_count": 1,
   "metadata": {
    "tags": []
   },
   "outputs": [
    {
     "name": "stdout",
     "output_type": "stream",
     "text": [
      "No Palindrome Substring\n"
     ]
    }
   ],
   "source": [
    "#Hard- 2\n",
    "\n",
    "def fixpaline(string):\n",
    "    temp = string[0:3]\n",
    "    temp1 = string[-3:]\n",
    "\n",
    "    if(temp == temp1 and temp1 in string[3:-3]):\n",
    "        return temp\n",
    "    else:\n",
    "        return 'No Palindrome Substring'\n",
    "\n",
    "print(fixpaline('abcdabc'))"
   ]
  },
  {
   "cell_type": "code",
   "execution_count": 6,
   "metadata": {
    "tags": []
   },
   "outputs": [
    {
     "name": "stdout",
     "output_type": "stream",
     "text": [
      "OK\n"
     ]
    }
   ],
   "source": [
    "#Hard- 3\n",
    "lowercase = \"abcdefghijklmnopqrstuvwxyz\"\n",
    "uppercase = \"ABCDEFGHIJKLMNOPQRSTUVWXYZ\"\n",
    "digits = \"0123456789\"\n",
    "special_chars = \"_$#@\"\n",
    "\n",
    "def nwordpass(password):\n",
    "    result = \"\"\n",
    "    lower = 0\n",
    "    upper = 0\n",
    "    special = 0\n",
    "    digit = 0\n",
    "    for i in password:\n",
    "        if i in lowercase:\n",
    "            lower+=1\n",
    "        elif i in uppercase:\n",
    "            upper+=1\n",
    "        elif i in digits:\n",
    "            digit+=1\n",
    "        elif i in special_chars:\n",
    "            special+=1\n",
    "\n",
    "    if not lower > 0:\n",
    "        result += \"Lowercase character missing, \"\n",
    "    if not upper > 0:\n",
    "        result += \"Uppercase character missing, \"\n",
    "    if not digit > 0:\n",
    "        result += \"Digit missing, \"\n",
    "    if not special > 0:\n",
    "        result += \"Special character missing, \"\n",
    "    if lower>0 and upper>0 and digit>0 and special>0:\n",
    "        return \"OK\"\n",
    "\n",
    "    return res[:-2]\n",
    "print(nwordpass('gtafAasa@768'))"
   ]
  },
  {
   "cell_type": "code",
   "execution_count": null,
   "metadata": {},
   "outputs": [],
   "source": []
  }
 ],
 "metadata": {
  "kernelspec": {
   "display_name": "Python 3",
   "language": "python",
   "name": "python3"
  },
  "language_info": {
   "codemirror_mode": {
    "name": "ipython",
    "version": 3
   },
   "file_extension": ".py",
   "mimetype": "text/x-python",
   "name": "python",
   "nbconvert_exporter": "python",
   "pygments_lexer": "ipython3",
   "version": "3.7.6"
  }
 },
 "nbformat": 4,
 "nbformat_minor": 4
}
