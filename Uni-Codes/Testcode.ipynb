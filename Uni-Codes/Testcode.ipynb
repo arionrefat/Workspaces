{
 "cells": [
  {
   "cell_type": "markdown",
   "metadata": {},
   "source": [
    "#key word Arguments"
   ]
  },
  {
   "cell_type": "code",
   "execution_count": null,
   "metadata": {},
   "outputs": [],
   "source": [
    "print(\"MM DD YYYY\")\n",
    "print(\"06\",'6','2000')\n",
    "print('06','07','2020',sep=\":\")\n",
    "print(\"I love captain america\",end=\" \")\n",
    "print(\"and I am my GOD\",end=\" \")"
   ]
  },
  {
   "cell_type": "markdown",
   "metadata": {},
   "source": [
    "**see the quotation problem"
   ]
  },
  {
   "cell_type": "code",
   "execution_count": 10,
   "metadata": {},
   "outputs": [
    {
     "name": "stdout",
     "output_type": "stream",
     "text": [
      "kwargs sep=  end=\n"
     ]
    }
   ],
   "source": [
    "print('kwargs','sep=','','end=' '')"
   ]
  },
  {
   "cell_type": "code",
   "execution_count": 4,
   "metadata": {},
   "outputs": [],
   "source": [
    "square66 = 1"
   ]
  },
  {
   "cell_type": "markdown",
   "metadata": {},
   "source": [
    "**range (start, stop but not including, step)"
   ]
  },
  {
   "cell_type": "markdown",
   "metadata": {},
   "source": [
    "#advanced shit"
   ]
  },
  {
   "cell_type": "code",
   "execution_count": 15,
   "metadata": {},
   "outputs": [
    {
     "name": "stdout",
     "output_type": "stream",
     "text": [
      "Enter your string: hello\n",
      "olleh\n"
     ]
    }
   ],
   "source": [
    "sent = input(\"Enter your string: \")\n",
    "print(sent[::-1])    "
   ]
  },
  {
   "cell_type": "markdown",
   "metadata": {},
   "source": [
    "**noob shit"
   ]
  },
  {
   "cell_type": "code",
   "execution_count": 32,
   "metadata": {},
   "outputs": [
    {
     "name": "stdout",
     "output_type": "stream",
     "text": [
      "Enter your string: Hello\n",
      "olleH"
     ]
    }
   ],
   "source": [
    "sent = input(\"Enter your string: \")\n",
    "\n",
    "n = len(sent)\n",
    "\n",
    "#for i in reversed(range(6)):\n",
    "for i in range((n-1),-1,-1):\n",
    "    print(sent[i],end='')"
   ]
  },
  {
   "cell_type": "code",
   "execution_count": 4,
   "metadata": {},
   "outputs": [
    {
     "name": "stdout",
     "output_type": "stream",
     "text": [
      "Enter your First number: 8\n",
      "Enter your Second number: 8\n",
      "Enter your Third number: 5\n"
     ]
    }
   ],
   "source": [
    "num1 = int(input(\"Enter your First number: \"))\n",
    "num2 = int(input(\"Enter your Second number: \"))\n",
    "num3 = int(input(\"Enter your Third number: \"))\n",
    "\n",
    "if num1 > num2 and num1 > num3:\n",
    "    print(f\"Largest number is {num1}\")\n",
    "\n",
    "elif num2 > num1 and num2 > num3:\n",
    "    print(f\"Largest number is {num2}\")\n",
    "\n",
    "elif num3 > num1 and num3 > num2:\n",
    "    print(f\"Largest number is {num3}\")"
   ]
  },
  {
   "cell_type": "code",
   "execution_count": 3,
   "metadata": {},
   "outputs": [],
   "source": [
    "mark = '89'\n",
    "mark = int(mark)"
   ]
  },
  {
   "cell_type": "code",
   "execution_count": 35,
   "metadata": {},
   "outputs": [
    {
     "name": "stdout",
     "output_type": "stream",
     "text": [
      "89\n"
     ]
    }
   ],
   "source": [
    "print(mark)"
   ]
  },
  {
   "cell_type": "code",
   "execution_count": 36,
   "metadata": {},
   "outputs": [
    {
     "data": {
      "text/plain": [
       "int"
      ]
     },
     "execution_count": 36,
     "metadata": {},
     "output_type": "execute_result"
    }
   ],
   "source": [
    "type(mark)"
   ]
  },
  {
   "cell_type": "code",
   "execution_count": 44,
   "metadata": {},
   "outputs": [
    {
     "name": "stdout",
     "output_type": "stream",
     "text": [
      "Enter your mark: 69\n",
      "You got C+\n"
     ]
    }
   ],
   "source": [
    "mark = int(input(\"Enter your mark: \"))\n",
    "\n",
    "if(mark > 89):\n",
    "    print(\"You got A\")\n",
    "elif(mark > 84 and mark <= 89 ):\n",
    "    print(\"You got A-\")\n",
    "elif(mark > 79 and mark <= 84 ):\n",
    "    print(\"You got B+\")\n",
    "elif(mark > 74 and mark <= 79 ):\n",
    "    print(\"You got B\")\n",
    "elif(mark > 69 and mark <= 74 ):\n",
    "    print(\"You got B-\")\n",
    "elif( mark > 64 and mark <= 69 ):\n",
    "    print(\"You got C+\")\n",
    "elif( mark > 59 and mark <= 65 ):\n",
    "    print(\"You got C\")\n",
    "elif( mark > 56 and mark <= 59 ):\n",
    "    print(\"You got C-\")\n",
    "elif( mark > 54 and mark <= 56 ):\n",
    "    print(\"You got D+\")\n",
    "elif( mark > 51 and mark <= 54 ):\n",
    "    print(\"You got D\")\n",
    "elif( mark > 49 and mark <= 51 ):\n",
    "    print(\"You got D-\")\n",
    "else:\n",
    "    print(\"You got F\")"
   ]
  },
  {
   "cell_type": "code",
   "execution_count": 4,
   "metadata": {},
   "outputs": [
    {
     "name": "stdout",
     "output_type": "stream",
     "text": [
      "['ab', 'cd']\n"
     ]
    }
   ],
   "source": [
    "x= ['ab','cd']\n",
    "for i in x:\n",
    "    i.upper()\n",
    "print(x)"
   ]
  },
  {
   "cell_type": "code",
   "execution_count": 11,
   "metadata": {},
   "outputs": [
    {
     "name": "stdout",
     "output_type": "stream",
     "text": [
      "2\n",
      "1\n",
      "0\n",
      "-1\n",
      "-2\n",
      "-3\n",
      "-4\n"
     ]
    }
   ],
   "source": [
    "for i in range(2,-5,-1):\n",
    "    print(i)"
   ]
  },
  {
   "cell_type": "code",
   "execution_count": 8,
   "metadata": {},
   "outputs": [
    {
     "name": "stdout",
     "output_type": "stream",
     "text": [
      "9\n",
      "9\n",
      "5\n",
      "9\n"
     ]
    }
   ],
   "source": [
    "num1 = int(input())\n",
    "num2 = int(input())\n",
    "num3 = int(input())\n",
    "\n",
    "if num1 > num2:\n",
    "    if num1 > num3:\n",
    "        largest = num1\n",
    "    else:\n",
    "        largest = num3\n",
    "else:\n",
    "    if num2 > num3:\n",
    "        largest = num2\n",
    "    else:\n",
    "        largest = num3\n",
    "        \n",
    "print(largest)"
   ]
  },
  {
   "cell_type": "code",
   "execution_count": 9,
   "metadata": {},
   "outputs": [
    {
     "name": "stdout",
     "output_type": "stream",
     "text": [
      "Enter your mark: 69\n",
      "You got C+\n",
      "Enter your mark: 45\n",
      "You got F\n",
      "Enter your mark: 99\n",
      "You got A\n",
      "Enter your mark: 56\n",
      "You got D+\n"
     ]
    }
   ],
   "source": [
    "count = 0\n",
    "while count < 3:\n",
    "\n",
    "    mark = int(input(\"Enter your mark: \"))\n",
    "\n",
    "    if(mark > 89):\n",
    "        print(\"You got A\")\n",
    "    elif(mark > 84 and mark <= 89):\n",
    "        print(\"You got A-\")\n",
    "    elif(mark > 79 and mark <= 84):\n",
    "        print(\"You got B+\")\n",
    "    elif(mark > 74 and mark <= 79):\n",
    "        print(\"You got B\")\n",
    "    elif(mark > 69 and mark <= 74):\n",
    "        print(\"You got B-\")\n",
    "    elif(mark > 64 and mark <= 69):\n",
    "        print(\"You got C+\")\n",
    "    elif(mark > 59 and mark <= 65):\n",
    "        print(\"You got C\")\n",
    "    elif(mark > 56 and mark <= 59):\n",
    "        print(\"You got C-\")\n",
    "    elif(mark > 54 and mark <= 56):\n",
    "        print(\"You got D+\")\n",
    "    elif(mark > 51 and mark <= 54):\n",
    "        print(\"You got D\")\n",
    "    elif(mark > 49 and mark <= 51):\n",
    "        print(\"You got D-\")\n",
    "    else:\n",
    "        print(\"You got F\")\n",
    "    count = count + 1\n"
   ]
  },
  {
   "cell_type": "code",
   "execution_count": 1,
   "metadata": {},
   "outputs": [
    {
     "name": "stdout",
     "output_type": "stream",
     "text": [
      "Enter your number: 10\n",
      "0\n"
     ]
    }
   ],
   "source": [
    "limit = int(input(\"Enter your number: \"))\n",
    "\n",
    "summation = 0\n",
    "\n",
    "for i in range(0,limit+1):\n",
    "    summation = summation + summation\n",
    "print(summation)"
   ]
  },
  {
   "cell_type": "code",
   "execution_count": 2,
   "metadata": {},
   "outputs": [
    {
     "name": "stdout",
     "output_type": "stream",
     "text": [
      "Enter your numnber: 12164\n",
      "5\n"
     ]
    }
   ],
   "source": [
    "number = input(\"Enter your numnber: \")\n",
    "size = len(number)\n",
    "\n",
    "print(size)"
   ]
  },
  {
   "cell_type": "code",
   "execution_count": 6,
   "metadata": {},
   "outputs": [
    {
     "name": "stdout",
     "output_type": "stream",
     "text": [
      "Corona update: Female: 700  Male : 800"
     ]
    }
   ],
   "source": [
    "def CoronaStat(*update):\n",
    "    print(\"Corona update:\", update[0], update[1],update[2],update[3])\n",
    "CoronaStat(\"Female:\",700,\" Male :\",800)"
   ]
  },
  {
   "cell_type": "code",
   "execution_count": 7,
   "metadata": {},
   "outputs": [],
   "source": [
    "def mul(first, second, third= 6):\n",
    "    print(first*second*third)"
   ]
  },
  {
   "cell_type": "code",
   "execution_count": 2,
   "metadata": {},
   "outputs": [
    {
     "name": "stdout",
     "output_type": "stream",
     "text": [
      "<__main__.Student object at 0x7f84102ead90>\n",
      "a student object created\n"
     ]
    }
   ],
   "source": [
    "class Student:\n",
    "    \n",
    "    def __init__(self):\n",
    "        print(self)\n",
    "        print(\"a student object created\")\n",
    "        \n",
    "s1 = Student()"
   ]
  },
  {
   "cell_type": "code",
   "execution_count": 2,
   "metadata": {},
   "outputs": [
    {
     "name": "stdout",
     "output_type": "stream",
     "text": [
      "abs2we6r\n",
      "Not Found\n"
     ]
    }
   ],
   "source": [
    "word=input()\n",
    "length=len(word)\n",
    "small_letters=0\n",
    "for i in range(length):\n",
    "    if(ord(word[i])>=97 and ord(word[i])<=122):\n",
    "        small_letters+=1\n",
    "    else:\n",
    "        small_letters=0\n",
    "    if(small_letters==4):\n",
    "        break\n",
    "if(small_letters==4):\n",
    "    print('Found')\n",
    "else:\n",
    "    print('Not Found')"
   ]
  },
  {
   "cell_type": "code",
   "execution_count": 17,
   "metadata": {},
   "outputs": [
    {
     "name": "stdout",
     "output_type": "stream",
     "text": [
      "hello default student\n",
      "Your average quiz score is 3.3333333333333335\n",
      "--------\n",
      "hello Harry\n",
      "Your average quiz score is 6.0\n",
      "--------\n",
      "hello Hermione\n",
      "Your average quiz score is 9.666666666666666\n"
     ]
    }
   ],
   "source": [
    "class student:\n",
    "    def __init__(self,name = 'default student'):\n",
    "        self.name = name\n",
    "        print(f\"hello {name}\")\n",
    "\n",
    "    def quizcalc(self,mark1 = 0, mark2 = 0, mark3 = 0):\n",
    "        self.mark1 = mark1\n",
    "        self.mark2 = mark2\n",
    "        self.mark3 = mark3\n",
    "        self.avg = ((mark1 + mark2 + mark3)/3)\n",
    "        return self.avg\n",
    "    def printdetail(self):\n",
    "        print(f\"Your average quiz score is {self.avg}\")\n",
    "\n",
    "\n",
    "s1=student()\n",
    "s1.quizcalc(10)\n",
    "s1.printdetail()\n",
    "print('--------')\n",
    "s2=student('Harry')\n",
    "s2.quizcalc(10,8)\n",
    "s2.printdetail()\n",
    "print('--------')\n",
    "s3=student('Hermione')\n",
    "s3.quizcalc(10,9,10)\n",
    "s3.printdetail()"
   ]
  },
  {
   "cell_type": "code",
   "execution_count": 18,
   "metadata": {},
   "outputs": [],
   "source": [
    "class Student: \n",
    "    uni_name = 'BracU'#static or class variable\n",
    "\n",
    "    def __init__(self,name,ID):\n",
    "        self.name = name\n",
    "        self.ID = ID\n",
    "    def details(self):\n",
    "        print(\"University:\", Student.uni_name,'and student name is',self.name,'and ID is this',self.ID)\n",
    "    @classmethod\n",
    "    def up_inthe(cls,u_name):\n",
    "        cls.uni_name = u_name\n"
   ]
  },
  {
   "cell_type": "code",
   "execution_count": 19,
   "metadata": {},
   "outputs": [
    {
     "name": "stdout",
     "output_type": "stream",
     "text": [
      "University: BracU and student name is Lokhya and ID is this 20101482\n",
      "University: Brac University and student name is Lokhya and ID is this 20101482\n"
     ]
    }
   ],
   "source": [
    "s1 = Student('Lokhya',20101482)\n",
    "s1.details()\n",
    "Student.up_inthe('Brac University')\n",
    "s1.details()"
   ]
  },
  {
   "cell_type": "code",
   "execution_count": null,
   "metadata": {},
   "outputs": [],
   "source": []
  }
 ],
 "metadata": {
  "kernelspec": {
   "display_name": "Python 3",
   "language": "python",
   "name": "python3"
  },
  "language_info": {
   "codemirror_mode": {
    "name": "ipython",
    "version": 3
   },
   "file_extension": ".py",
   "mimetype": "text/x-python",
   "name": "python",
   "nbconvert_exporter": "python",
   "pygments_lexer": "ipython3",
   "version": "3.7.9"
  }
 },
 "nbformat": 4,
 "nbformat_minor": 4
}
